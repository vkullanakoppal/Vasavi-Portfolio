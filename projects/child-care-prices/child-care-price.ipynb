{
 "cells": [
  {
   "cell_type": "code",
   "execution_count": 1,
   "id": "cbd3e296-6e0c-4bba-ba51-22cb7800e49a",
   "metadata": {},
   "outputs": [],
   "source": [
    "import pandas as pd\n",
    "import matplotlib.pyplot as plt  \n",
    "import seaborn as sns\n",
    "\n",
    "# Read the Excel file\n",
    "df = pd.read_excel(\"nationaldatabaseofchildcareprices.xlsx\", engine=\"openpyxl\") \n",
    "\n",
    "# Select relevant columns\n",
    "cols = [\n",
    "    \"State_Name\", \"County_Name\", \"County_FIPS_Code\", \"StudyYear\",\n",
    "    \"MFCCToddler\", \"MFCCPreschool\", \"_75FCCInfant\", \"_75FCCToddler\", \"_75FCCPreschool\"\n",
    "]\n",
    "df_subset = df[cols]\n",
    "\n",
    "# Drop rows where all key prices are missing\n",
    "price_cols = [\"MFCCToddler\", \"MFCCPreschool\", \"_75FCCInfant\", \"_75FCCToddler\", \"_75FCCPreschool\"]\n",
    "df_clean = df_subset.dropna(subset=price_cols, how=\"all\")"
   ]
  },
  {
   "cell_type": "code",
   "execution_count": 2,
   "id": "c9a77de7-fe8a-4e0e-af79-8a75817ef0d5",
   "metadata": {},
   "outputs": [],
   "source": [
    "# Average Cost by State & Year\n",
    "\n",
    "state_summary = df_clean.groupby(['State_Name', 'StudyYear'])[price_cols].mean().reset_index()\n",
    "state_summary.to_csv(\"childcare_avg_by_state_year.csv\", index=False, encoding='utf-8')"
   ]
  },
  {
   "cell_type": "code",
   "execution_count": 3,
   "id": "bebfd810-a631-42d0-a79b-1c29ee49db47",
   "metadata": {},
   "outputs": [],
   "source": [
    "# Average Cost by County & Year\n",
    "\n",
    "county_summary = df_clean.groupby(['County_FIPS_Code', 'County_Name', 'State_Name', 'StudyYear'])[price_cols].mean().reset_index()\n",
    "county_summary.to_csv(\"childcare_avg_by_county_year.csv\", index=False, encoding='utf-8')"
   ]
  },
  {
   "cell_type": "code",
   "execution_count": 4,
   "id": "f3783583-2452-48a3-a1b4-685fd61101cd",
   "metadata": {},
   "outputs": [],
   "source": [
    "# Overall Averages\n",
    "\n",
    "overall_summary = df_clean.groupby(\"StudyYear\")[price_cols].mean().reset_index()\n",
    "overall_summary.to_csv(\"childcare_national_trends.csv\", index=False, encoding='utf-8')"
   ]
  },
  {
   "cell_type": "code",
   "execution_count": null,
   "id": "1b7e2966-ed05-417e-a6c5-a9086230532f",
   "metadata": {},
   "outputs": [],
   "source": []
  }
 ],
 "metadata": {
  "kernelspec": {
   "display_name": "Python 3 (ipykernel)",
   "language": "python",
   "name": "python3"
  },
  "language_info": {
   "codemirror_mode": {
    "name": "ipython",
    "version": 3
   },
   "file_extension": ".py",
   "mimetype": "text/x-python",
   "name": "python",
   "nbconvert_exporter": "python",
   "pygments_lexer": "ipython3",
   "version": "3.12.4"
  }
 },
 "nbformat": 4,
 "nbformat_minor": 5
}
